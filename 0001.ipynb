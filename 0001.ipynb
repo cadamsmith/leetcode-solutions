{
 "cells": [
  {
   "cell_type": "code",
   "execution_count": null,
   "metadata": {
    "dotnet_interactive": {
     "language": "csharp"
    },
    "polyglot_notebook": {
     "kernelName": "csharp"
    }
   },
   "outputs": [],
   "source": [
    "public void Test(dynamic sln)\n",
    "{\n",
    "    (int[], int)[] args = [\n",
    "        ([2, 7, 11, 15], 9),\n",
    "        ([3, 2, 4], 6),\n",
    "        ([3, 3], 6)\n",
    "    ];\n",
    "\n",
    "    foreach ((int[] nums, int target) in args)\n",
    "    {\n",
    "        string output = string.Join(\", \", sln.TwoSum(nums, target));\n",
    "        Console.WriteLine(output);\n",
    "    }\n",
    "}"
   ]
  },
  {
   "cell_type": "code",
   "execution_count": null,
   "metadata": {},
   "outputs": [
    {
     "name": "stdout",
     "output_type": "stream",
     "text": [
      "0, 1\n",
      "1, 2\n",
      "0, 1\n"
     ]
    }
   ],
   "source": [
    "// attempt 1: simple double loop\n",
    "public class Solution\n",
    "{\n",
    "    public int[] TwoSum(int[] nums, int target)\n",
    "    {\n",
    "        for (int i = 0; i < nums.Length; i++)\n",
    "        {\n",
    "            for (int j = i + 1; j < nums.Length; j++)\n",
    "            {\n",
    "                if (nums[i] + nums[j] == target)\n",
    "                {\n",
    "                    return [i, j];\n",
    "                }\n",
    "            }\n",
    "        }\n",
    "\n",
    "        // this should never hit\n",
    "        return [-1, -1];\n",
    "    }\n",
    "}\n",
    "\n",
    "Test(new Solution());"
   ]
  }
 ],
 "metadata": {
  "kernelspec": {
   "display_name": ".NET (C#)",
   "language": "C#",
   "name": ".net-csharp"
  },
  "polyglot_notebook": {
   "kernelInfo": {
    "defaultKernelName": "csharp",
    "items": [
     {
      "aliases": [],
      "languageName": "csharp",
      "name": "csharp"
     }
    ]
   }
  }
 },
 "nbformat": 4,
 "nbformat_minor": 2
}
