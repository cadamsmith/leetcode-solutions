{
 "cells": [
  {
   "cell_type": "code",
   "execution_count": null,
   "metadata": {
    "dotnet_interactive": {
     "language": "csharp"
    },
    "polyglot_notebook": {
     "kernelName": "csharp"
    }
   },
   "outputs": [],
   "source": [
    "public void Test(dynamic sln)\n",
    "{\n",
    "    (string, string)[] args = new (string, string)[] \n",
    "    {\n",
    "        (\"anagram\", \"nagaram\"),\n",
    "        (\"rat\", \"car\")\n",
    "    };\n",
    "\n",
    "    foreach ((string s, string t) in args)\n",
    "    {\n",
    "        Console.WriteLine(sln.IsAnagram(s, t));\n",
    "    }\n",
    "}"
   ]
  },
  {
   "cell_type": "code",
   "execution_count": null,
   "metadata": {
    "dotnet_interactive": {
     "language": "csharp"
    },
    "polyglot_notebook": {
     "kernelName": "csharp"
    }
   },
   "outputs": [
    {
     "name": "stdout",
     "output_type": "stream",
     "text": [
      "True\n",
      "False\n"
     ]
    }
   ],
   "source": [
    "// attempt 1: bruteforce creating two dicts\n",
    "public class Solution\n",
    "{\n",
    "    public bool IsAnagram(string s, string t)\n",
    "    {\n",
    "        if (s.Length != t.Length)\n",
    "        {\n",
    "            return false;\n",
    "        }\n",
    "\n",
    "        Dictionary<char, int> sLetterCounts = new();\n",
    "        Dictionary<char, int> tLetterCounts = new();\n",
    "\n",
    "        for (int i = 0; i < s.Length; i++)\n",
    "        {\n",
    "            char sLetter = s[i];\n",
    "            char tLetter = t[i];\n",
    "\n",
    "            if (!sLetterCounts.ContainsKey(sLetter))\n",
    "            {\n",
    "                sLetterCounts[sLetter] = 0;\n",
    "            }\n",
    "            sLetterCounts[sLetter]++;\n",
    "\n",
    "            if (!tLetterCounts.ContainsKey(tLetter))\n",
    "            {\n",
    "                tLetterCounts[tLetter] = 0;\n",
    "            }\n",
    "            tLetterCounts[tLetter]++;\n",
    "        }\n",
    "\n",
    "        foreach (char letter in sLetterCounts.Keys)\n",
    "        {\n",
    "            if (!tLetterCounts.TryGetValue(letter, out int tCount))\n",
    "            {\n",
    "                return false;\n",
    "            }\n",
    "\n",
    "            if (sLetterCounts[letter] != tCount)\n",
    "            {\n",
    "                return false;\n",
    "            }\n",
    "        }\n",
    "\n",
    "        return true;\n",
    "    }\n",
    "}\n",
    "\n",
    "Test(new Solution());"
   ]
  }
 ],
 "metadata": {
  "kernelspec": {
   "display_name": ".NET (C#)",
   "language": "C#",
   "name": ".net-csharp"
  },
  "polyglot_notebook": {
   "kernelInfo": {
    "defaultKernelName": "csharp",
    "items": [
     {
      "aliases": [],
      "languageName": "csharp",
      "name": "csharp"
     }
    ]
   }
  }
 },
 "nbformat": 4,
 "nbformat_minor": 2
}
