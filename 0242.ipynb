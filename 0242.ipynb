{
 "cells": [
  {
   "cell_type": "code",
   "execution_count": null,
   "metadata": {
    "dotnet_interactive": {
     "language": "csharp"
    },
    "polyglot_notebook": {
     "kernelName": "csharp"
    }
   },
   "outputs": [],
   "source": [
    "public void Test(dynamic sln)\n",
    "{\n",
    "    (string, string)[] args = new (string, string)[] \n",
    "    {\n",
    "        (\"anagram\", \"nagaram\"),\n",
    "        (\"rat\", \"car\")\n",
    "    };\n",
    "\n",
    "    foreach ((string s, string t) in args)\n",
    "    {\n",
    "        Console.WriteLine(sln.IsAnagram(s, t));\n",
    "    }\n",
    "}"
   ]
  },
  {
   "cell_type": "code",
   "execution_count": null,
   "metadata": {
    "dotnet_interactive": {
     "language": "csharp"
    },
    "polyglot_notebook": {
     "kernelName": "csharp"
    }
   },
   "outputs": [],
   "source": [
    "// attempt 1: bruteforce creating two dicts\n",
    "public class Solution\n",
    "{\n",
    "    public bool IsAnagram(string s, string t)\n",
    "    {\n",
    "        if (s.Length != t.Length)\n",
    "        {\n",
    "            return false;\n",
    "        }\n",
    "\n",
    "        Dictionary<char, int> sCounts = new();\n",
    "        Dictionary<char, int> tCounts = new();\n",
    "\n",
    "        for (int i = 0; i < s.Length; i++)\n",
    "        {\n",
    "            char sLetter = s[i];\n",
    "            char tLetter = t[i];\n",
    "\n",
    "            if (!sCounts.ContainsKey(sLetter))\n",
    "            {\n",
    "                sCounts[sLetter] = 0;\n",
    "            }\n",
    "            sCounts[sLetter]++;\n",
    "\n",
    "            if (!tCounts.ContainsKey(tLetter))\n",
    "            {\n",
    "                tCounts[tLetter] = 0;\n",
    "            }\n",
    "            tCounts[tLetter]++;\n",
    "        }\n",
    "\n",
    "        foreach (char letter in sCounts.Keys)\n",
    "        {\n",
    "            if (!tCounts.TryGetValue(letter, out int tCount))\n",
    "            {\n",
    "                return false;\n",
    "            }\n",
    "\n",
    "            if (sCounts[letter] != tCount)\n",
    "            {\n",
    "                return false;\n",
    "            }\n",
    "        }\n",
    "\n",
    "        return true;\n",
    "    }\n",
    "}\n",
    "\n",
    "Test(new Solution());"
   ]
  },
  {
   "cell_type": "code",
   "execution_count": null,
   "metadata": {
    "dotnet_interactive": {
     "language": "csharp"
    },
    "polyglot_notebook": {
     "kernelName": "csharp"
    }
   },
   "outputs": [],
   "source": [
    "// attempt 2: sorting both strings and comparing\n",
    "public class Solution\n",
    "{\n",
    "    public bool IsAnagram(string s, string t)\n",
    "    {\n",
    "        if (s.Length != t.Length)\n",
    "        {\n",
    "            return false;\n",
    "        }\n",
    "\n",
    "        char[] sLetters = s.ToCharArray();\n",
    "        char[] tLetters = t.ToCharArray();\n",
    "\n",
    "        Array.Sort(sLetters);\n",
    "        Array.Sort(tLetters);\n",
    "\n",
    "        return new string(sLetters) == new string(tLetters);\n",
    "    }\n",
    "}\n",
    "\n",
    "Test(new Solution());"
   ]
  }
 ],
 "metadata": {
  "kernelspec": {
   "display_name": ".NET (C#)",
   "language": "C#",
   "name": ".net-csharp"
  },
  "polyglot_notebook": {
   "kernelInfo": {
    "defaultKernelName": "csharp",
    "items": [
     {
      "aliases": [],
      "languageName": "csharp",
      "name": "csharp"
     }
    ]
   }
  }
 },
 "nbformat": 4,
 "nbformat_minor": 2
}
