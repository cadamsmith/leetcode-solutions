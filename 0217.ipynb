{
 "cells": [
  {
   "cell_type": "code",
   "execution_count": null,
   "metadata": {
    "dotnet_interactive": {
     "language": "csharp"
    },
    "polyglot_notebook": {
     "kernelName": "csharp"
    }
   },
   "outputs": [],
   "source": [
    "public void Test(dynamic sln)\n",
    "{\n",
    "    int[][] args = [\n",
    "        [1, 2, 3, 1],\n",
    "        [1, 2, 3, 4],\n",
    "        [1, 1, 1, 3, 3, 4, 3, 2, 4, 2]\n",
    "    ];\n",
    "\n",
    "    foreach (int[] nums in args)\n",
    "    {\n",
    "        Console.WriteLine(sln.ContainsDuplicate(nums));\n",
    "    }\n",
    "}"
   ]
  },
  {
   "cell_type": "code",
   "execution_count": null,
   "metadata": {
    "dotnet_interactive": {
     "language": "csharp"
    },
    "polyglot_notebook": {
     "kernelName": "csharp"
    }
   },
   "outputs": [],
   "source": [
    "// attempt 1: using built in LINQ\n",
    "public class Solution\n",
    "{\n",
    "    public bool ContainsDuplicate(int[] nums)\n",
    "    {\n",
    "        return nums.Distinct().Count() != nums.Length;\n",
    "    }\n",
    "}\n",
    "\n",
    "Test(new Solution())"
   ]
  },
  {
   "cell_type": "code",
   "execution_count": null,
   "metadata": {
    "dotnet_interactive": {
     "language": "csharp"
    },
    "polyglot_notebook": {
     "kernelName": "csharp"
    }
   },
   "outputs": [],
   "source": [
    "// attempt 2: manual hashset implementation\n",
    "public class Solution\n",
    "{\n",
    "    public bool ContainsDuplicate(int[] nums)\n",
    "    {\n",
    "        HashSet<int> distinct = new HashSet<int>();\n",
    "\n",
    "        foreach (int num in nums)\n",
    "        {\n",
    "            if (!distinct.Contains(num))\n",
    "            {\n",
    "                distinct.Add(num);\n",
    "            }\n",
    "        }\n",
    "\n",
    "        return distinct.Count != nums.Length;\n",
    "    }\n",
    "}\n",
    "\n",
    "Test(new Solution())"
   ]
  },
  {
   "cell_type": "code",
   "execution_count": null,
   "metadata": {
    "dotnet_interactive": {
     "language": "csharp"
    },
    "polyglot_notebook": {
     "kernelName": "csharp"
    }
   },
   "outputs": [],
   "source": [
    "// cool elegant implementation by Kuba111\n",
    "public class Solution\n",
    "{\n",
    "    public bool ContainsDuplicate(int[] nums)\n",
    "    {\n",
    "        // didn't know you can init a HashSet like this\n",
    "        return new HashSet<int>(nums).Count < nums.Length;\n",
    "    }\n",
    "}\n",
    "\n",
    "Test(new Solution())"
   ]
  }
 ],
 "metadata": {
  "kernelspec": {
   "display_name": ".NET (C#)",
   "language": "C#",
   "name": ".net-csharp"
  },
  "polyglot_notebook": {
   "kernelInfo": {
    "defaultKernelName": "csharp",
    "items": [
     {
      "aliases": [],
      "languageName": "csharp",
      "name": "csharp"
     }
    ]
   }
  }
 },
 "nbformat": 4,
 "nbformat_minor": 2
}
