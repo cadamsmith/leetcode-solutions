{
 "cells": [
  {
   "cell_type": "code",
   "execution_count": null,
   "metadata": {
    "dotnet_interactive": {
     "language": "csharp"
    },
    "polyglot_notebook": {
     "kernelName": "csharp"
    }
   },
   "outputs": [],
   "source": [
    "// attempt 1: using built in LINQ\n",
    "public class Solution\n",
    "{\n",
    "    public bool ContainsDuplicate(int[] nums)\n",
    "    {\n",
    "        return nums.Distinct().Count() != nums.Length;\n",
    "    }\n",
    "}"
   ]
  },
  {
   "cell_type": "code",
   "execution_count": null,
   "metadata": {},
   "outputs": [
    {
     "name": "stdout",
     "output_type": "stream",
     "text": [
      "True\n",
      "False\n",
      "True\n"
     ]
    }
   ],
   "source": [
    "Solution sln = new Solution();\n",
    "\n",
    "Console.WriteLine(sln.ContainsDuplicate([1, 2, 3, 1]));\n",
    "Console.WriteLine(sln.ContainsDuplicate([1, 2, 3, 4]));\n",
    "Console.WriteLine(sln.ContainsDuplicate([1, 1, 1, 3, 3, 4, 3, 2, 4, 2]));"
   ]
  },
  {
   "cell_type": "code",
   "execution_count": null,
   "metadata": {},
   "outputs": [],
   "source": [
    "// attempt 2: manual hashset implementation\n",
    "public class Solution\n",
    "{\n",
    "    public bool ContainsDuplicate(int[] nums)\n",
    "    {\n",
    "        HashSet<int> distinct = new HashSet<int>();\n",
    "\n",
    "        foreach (int num in nums)\n",
    "        {\n",
    "            if (!distinct.Contains(num))\n",
    "            {\n",
    "                distinct.Add(num);\n",
    "            }\n",
    "        }\n",
    "\n",
    "        return distinct.Count != nums.Length;\n",
    "    }\n",
    "}"
   ]
  },
  {
   "cell_type": "code",
   "execution_count": null,
   "metadata": {},
   "outputs": [
    {
     "name": "stdout",
     "output_type": "stream",
     "text": [
      "True\n",
      "False\n",
      "True\n"
     ]
    }
   ],
   "source": [
    "Solution sln = new Solution();\n",
    "\n",
    "Console.WriteLine(sln.ContainsDuplicate([1, 2, 3, 1]));\n",
    "Console.WriteLine(sln.ContainsDuplicate([1, 2, 3, 4]));\n",
    "Console.WriteLine(sln.ContainsDuplicate([1, 1, 1, 3, 3, 4, 3, 2, 4, 2]));"
   ]
  },
  {
   "cell_type": "code",
   "execution_count": null,
   "metadata": {},
   "outputs": [],
   "source": [
    "// cool elegant implementation by Kuba111\n",
    "public class Solution\n",
    "{\n",
    "    public bool ContainsDuplicate(int[] nums)\n",
    "    {\n",
    "        // didn't know you can init a HashSet like this\n",
    "        return new HashSet<int>(nums).Count < nums.Length;\n",
    "    }\n",
    "}"
   ]
  },
  {
   "cell_type": "code",
   "execution_count": null,
   "metadata": {},
   "outputs": [
    {
     "name": "stdout",
     "output_type": "stream",
     "text": [
      "True\n",
      "False\n",
      "True\n"
     ]
    }
   ],
   "source": [
    "Solution sln = new Solution();\n",
    "\n",
    "Console.WriteLine(sln.ContainsDuplicate([1, 2, 3, 1]));\n",
    "Console.WriteLine(sln.ContainsDuplicate([1, 2, 3, 4]));\n",
    "Console.WriteLine(sln.ContainsDuplicate([1, 1, 1, 3, 3, 4, 3, 2, 4, 2]));"
   ]
  }
 ],
 "metadata": {
  "kernelspec": {
   "display_name": ".NET (C#)",
   "language": "C#",
   "name": ".net-csharp"
  },
  "polyglot_notebook": {
   "kernelInfo": {
    "defaultKernelName": "csharp",
    "items": [
     {
      "aliases": [],
      "languageName": "csharp",
      "name": "csharp"
     }
    ]
   }
  }
 },
 "nbformat": 4,
 "nbformat_minor": 2
}
